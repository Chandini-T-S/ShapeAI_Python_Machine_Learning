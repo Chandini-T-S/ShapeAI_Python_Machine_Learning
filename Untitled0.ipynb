{
  "nbformat": 4,
  "nbformat_minor": 0,
  "metadata": {
    "colab": {
      "name": "Untitled0.ipynb",
      "provenance": [],
      "collapsed_sections": [],
      "authorship_tag": "ABX9TyPMQ1lPNU0eUd2ZQkbQk5KS",
      "include_colab_link": true
    },
    "kernelspec": {
      "name": "python3",
      "display_name": "Python 3"
    },
    "language_info": {
      "name": "python"
    }
  },
  "cells": [
    {
      "cell_type": "markdown",
      "metadata": {
        "id": "view-in-github",
        "colab_type": "text"
      },
      "source": [
        "<a href=\"https://colab.research.google.com/github/Chandini-T-S/ShapeAI_Python_Machine_Learning/blob/main/Untitled0.ipynb\" target=\"_parent\"><img src=\"https://colab.research.google.com/assets/colab-badge.svg\" alt=\"Open In Colab\"/></a>"
      ]
    },
    {
      "cell_type": "code",
      "metadata": {
        "id": "QXVRpQEgQIwd"
      },
      "source": [
        "import pandas as pd\n",
        "import numpy as np"
      ],
      "execution_count": 1,
      "outputs": []
    },
    {
      "cell_type": "markdown",
      "metadata": {
        "id": "l97_IYolQp9_"
      },
      "source": [
        "READING DATA USING PANDAS"
      ]
    },
    {
      "cell_type": "markdown",
      "metadata": {
        "id": "1shra1wJQzl9"
      },
      "source": [
        "We use pandas read_csv function to read the csv file in python and pandas DataFrame method to convert file into the data frame."
      ]
    },
    {
      "cell_type": "code",
      "metadata": {
        "id": "1Sslg7WFUQOh"
      },
      "source": [
        "df = pd.DataFrame(pd.read_csv('/content/train.csv'))\n",
        "df.head()"
      ],
      "execution_count": null,
      "outputs": []
    },
    {
      "cell_type": "code",
      "metadata": {
        "id": "hXpnpOw6Unl-"
      },
      "source": [
        "df.shape"
      ],
      "execution_count": null,
      "outputs": []
    },
    {
      "cell_type": "markdown",
      "metadata": {
        "id": "68a9RLHJU1kS"
      },
      "source": [
        "HANDELLING NULL VALUES"
      ]
    },
    {
      "cell_type": "code",
      "metadata": {
        "id": "yJw8Yrb0U5Lp"
      },
      "source": [
        "df.insull().SUM()"
      ],
      "execution_count": null,
      "outputs": []
    },
    {
      "cell_type": "markdown",
      "metadata": {
        "id": "4rY4xgXBVJmn"
      },
      "source": [
        "Separting out the columns which have more than 35% of the values missing in the dataset"
      ]
    },
    {
      "cell_type": "code",
      "metadata": {
        "id": "3zIfxp9_Vt4_"
      },
      "source": [
        " #df.insull().sum() returns a pandas series with columns name as the label index\n",
        " #and total count of null values in the column as it's value\n",
        " #And we are storing only those columns which have more than 35% of the data missing.\n",
        "\n",
        "  x = df.insull().sum()\n",
        "\n",
        "  drop_col = x[x>(35/100*df.shape[0])]\n",
        "  drop_col"
      ],
      "execution_count": null,
      "outputs": []
    },
    {
      "cell_type": "code",
      "metadata": {
        "id": "-ENowrvwYbWB"
      },
      "source": [
        "drop_col.index"
      ],
      "execution_count": null,
      "outputs": []
    },
    {
      "cell_type": "code",
      "metadata": {
        "id": "U2_MFZ1YYgRd"
      },
      "source": [
        "df.drop(drop_col.index,axis=1, inplace=True)\n",
        "df.insull().sum()"
      ],
      "execution_count": null,
      "outputs": []
    },
    {
      "cell_type": "code",
      "metadata": {
        "id": "LxDGk8J3bBEf"
      },
      "source": [
        "df.fillna(df.mean(),inplace = True)\n",
        "df.insull().sum()"
      ],
      "execution_count": null,
      "outputs": []
    },
    {
      "cell_type": "code",
      "metadata": {
        "id": "mhkf0kIzaLZX"
      },
      "source": [
        "df['Embarked'].describe()"
      ],
      "execution_count": null,
      "outputs": []
    },
    {
      "cell_type": "code",
      "metadata": {
        "id": "sTsDkyY4ZF_T"
      },
      "source": [
        "df['Embarked'].fillna('S',inplace=True)"
      ],
      "execution_count": null,
      "outputs": []
    },
    {
      "cell_type": "code",
      "metadata": {
        "id": "9eNBUnjvSStZ"
      },
      "source": [
        "df.insull().sum()           ##NOW ALL THE VALE=UES HAVE BEEN FILLED"
      ],
      "execution_count": null,
      "outputs": []
    },
    {
      "cell_type": "code",
      "metadata": {
        "id": "H3zRZfpxaqVG"
      },
      "source": [
        "df.corr()"
      ],
      "execution_count": null,
      "outputs": []
    },
    {
      "cell_type": "markdown",
      "metadata": {
        "id": "Fd8dUdHVcGfK"
      },
      "source": [
        "sibsp:Number of Sibligs/Spouses Aboard\n",
        "parch:Number of Parents/Children Aboard"
      ]
    },
    {
      "cell_type": "code",
      "metadata": {
        "id": "sX7iajpEb6wH"
      },
      "source": [
        "df['FamilySize'] = df['SibSp']+df['Parch']\n",
        "df.drop(['SibSp','Parch'],axis=1,inplace=True)\n",
        "df.corr()"
      ],
      "execution_count": null,
      "outputs": []
    },
    {
      "cell_type": "code",
      "metadata": {
        "id": "uchr2xffdxvj"
      },
      "source": [
        "df['Alone'] = [0 if df['FamilySize'][i]>0 else 1 for i in df.index]\n",
        "df.head()"
      ],
      "execution_count": null,
      "outputs": []
    },
    {
      "cell_type": "code",
      "metadata": {
        "id": "juQu3Site6Pv"
      },
      "source": [
        "df[['Alone','Fare']].corr()"
      ],
      "execution_count": null,
      "outputs": []
    },
    {
      "cell_type": "code",
      "metadata": {
        "id": "ZVEGk4hgfdMl"
      },
      "source": [
        "df['Sex'] = [0 if df['Sex'][i]=='male'else 1 for i in df.index] #1 for female,0 for male\n",
        "df.groupby(['Sex'])['Survived'].mean()"
      ],
      "execution_count": null,
      "outputs": []
    },
    {
      "cell_type": "code",
      "metadata": {
        "id": "CJo_ozyZeWfu"
      },
      "source": [
        "df.groupby(['Alone'])['Survived'].mean()"
      ],
      "execution_count": null,
      "outputs": []
    }
  ]
}